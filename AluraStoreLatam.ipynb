{
  "nbformat": 4,
  "nbformat_minor": 0,
  "metadata": {
    "colab": {
      "provenance": []
    },
    "kernelspec": {
      "name": "python3",
      "display_name": "Python 3"
    },
    "language_info": {
      "name": "python"
    }
  },
  "cells": [
    {
      "cell_type": "markdown",
      "source": [
        "### Importación de datos\n",
        "\n"
      ],
      "metadata": {
        "id": "RhEdWd9YUR6H"
      }
    },
    {
      "cell_type": "code",
      "execution_count": 42,
      "metadata": {
        "colab": {
          "base_uri": "https://localhost:8080/",
          "height": 206
        },
        "id": "T3EvaeQ_INIL",
        "outputId": "8f9a0789-0b38-4fc7-bc78-1c4b3f4f125f"
      },
      "outputs": [
        {
          "output_type": "execute_result",
          "data": {
            "text/plain": [
              "            Producto Categoría del Producto    Precio  Costo de envío  \\\n",
              "0  Asistente virtual           Electrónicos  164300.0          6900.0   \n",
              "1    Mesa de comedor                Muebles  192300.0          8400.0   \n",
              "2      Juego de mesa               Juguetes  209600.0         15900.0   \n",
              "3         Microondas      Electrodomésticos  757500.0         41000.0   \n",
              "4   Silla de oficina                Muebles  335200.0         20200.0   \n",
              "\n",
              "  Fecha de Compra         Vendedor Lugar de Compra  Calificación  \\\n",
              "0      16/01/2021      Pedro Gomez          Bogotá             4   \n",
              "1      18/05/2022  Beatriz Morales        Medellín             1   \n",
              "2      15/03/2021   Juan Fernandez       Cartagena             1   \n",
              "3      03/05/2022   Juan Fernandez            Cali             4   \n",
              "4      07/11/2020    Maria Alfonso        Medellín             5   \n",
              "\n",
              "       Método de pago  Cantidad de cuotas       lat       lon  \n",
              "0  Tarjeta de crédito                   8   4.60971 -74.08175  \n",
              "1  Tarjeta de crédito                   4   6.25184 -75.56359  \n",
              "2  Tarjeta de crédito                   1  10.39972 -75.51444  \n",
              "3               Nequi                   1   3.43722 -76.52250  \n",
              "4               Nequi                   1   6.25184 -75.56359  "
            ],
            "text/html": [
              "\n",
              "  <div id=\"df-2ea0fc31-8593-408f-af72-7edff7f3e53d\" class=\"colab-df-container\">\n",
              "    <div>\n",
              "<style scoped>\n",
              "    .dataframe tbody tr th:only-of-type {\n",
              "        vertical-align: middle;\n",
              "    }\n",
              "\n",
              "    .dataframe tbody tr th {\n",
              "        vertical-align: top;\n",
              "    }\n",
              "\n",
              "    .dataframe thead th {\n",
              "        text-align: right;\n",
              "    }\n",
              "</style>\n",
              "<table border=\"1\" class=\"dataframe\">\n",
              "  <thead>\n",
              "    <tr style=\"text-align: right;\">\n",
              "      <th></th>\n",
              "      <th>Producto</th>\n",
              "      <th>Categoría del Producto</th>\n",
              "      <th>Precio</th>\n",
              "      <th>Costo de envío</th>\n",
              "      <th>Fecha de Compra</th>\n",
              "      <th>Vendedor</th>\n",
              "      <th>Lugar de Compra</th>\n",
              "      <th>Calificación</th>\n",
              "      <th>Método de pago</th>\n",
              "      <th>Cantidad de cuotas</th>\n",
              "      <th>lat</th>\n",
              "      <th>lon</th>\n",
              "    </tr>\n",
              "  </thead>\n",
              "  <tbody>\n",
              "    <tr>\n",
              "      <th>0</th>\n",
              "      <td>Asistente virtual</td>\n",
              "      <td>Electrónicos</td>\n",
              "      <td>164300.0</td>\n",
              "      <td>6900.0</td>\n",
              "      <td>16/01/2021</td>\n",
              "      <td>Pedro Gomez</td>\n",
              "      <td>Bogotá</td>\n",
              "      <td>4</td>\n",
              "      <td>Tarjeta de crédito</td>\n",
              "      <td>8</td>\n",
              "      <td>4.60971</td>\n",
              "      <td>-74.08175</td>\n",
              "    </tr>\n",
              "    <tr>\n",
              "      <th>1</th>\n",
              "      <td>Mesa de comedor</td>\n",
              "      <td>Muebles</td>\n",
              "      <td>192300.0</td>\n",
              "      <td>8400.0</td>\n",
              "      <td>18/05/2022</td>\n",
              "      <td>Beatriz Morales</td>\n",
              "      <td>Medellín</td>\n",
              "      <td>1</td>\n",
              "      <td>Tarjeta de crédito</td>\n",
              "      <td>4</td>\n",
              "      <td>6.25184</td>\n",
              "      <td>-75.56359</td>\n",
              "    </tr>\n",
              "    <tr>\n",
              "      <th>2</th>\n",
              "      <td>Juego de mesa</td>\n",
              "      <td>Juguetes</td>\n",
              "      <td>209600.0</td>\n",
              "      <td>15900.0</td>\n",
              "      <td>15/03/2021</td>\n",
              "      <td>Juan Fernandez</td>\n",
              "      <td>Cartagena</td>\n",
              "      <td>1</td>\n",
              "      <td>Tarjeta de crédito</td>\n",
              "      <td>1</td>\n",
              "      <td>10.39972</td>\n",
              "      <td>-75.51444</td>\n",
              "    </tr>\n",
              "    <tr>\n",
              "      <th>3</th>\n",
              "      <td>Microondas</td>\n",
              "      <td>Electrodomésticos</td>\n",
              "      <td>757500.0</td>\n",
              "      <td>41000.0</td>\n",
              "      <td>03/05/2022</td>\n",
              "      <td>Juan Fernandez</td>\n",
              "      <td>Cali</td>\n",
              "      <td>4</td>\n",
              "      <td>Nequi</td>\n",
              "      <td>1</td>\n",
              "      <td>3.43722</td>\n",
              "      <td>-76.52250</td>\n",
              "    </tr>\n",
              "    <tr>\n",
              "      <th>4</th>\n",
              "      <td>Silla de oficina</td>\n",
              "      <td>Muebles</td>\n",
              "      <td>335200.0</td>\n",
              "      <td>20200.0</td>\n",
              "      <td>07/11/2020</td>\n",
              "      <td>Maria Alfonso</td>\n",
              "      <td>Medellín</td>\n",
              "      <td>5</td>\n",
              "      <td>Nequi</td>\n",
              "      <td>1</td>\n",
              "      <td>6.25184</td>\n",
              "      <td>-75.56359</td>\n",
              "    </tr>\n",
              "  </tbody>\n",
              "</table>\n",
              "</div>\n",
              "    <div class=\"colab-df-buttons\">\n",
              "\n",
              "  <div class=\"colab-df-container\">\n",
              "    <button class=\"colab-df-convert\" onclick=\"convertToInteractive('df-2ea0fc31-8593-408f-af72-7edff7f3e53d')\"\n",
              "            title=\"Convert this dataframe to an interactive table.\"\n",
              "            style=\"display:none;\">\n",
              "\n",
              "  <svg xmlns=\"http://www.w3.org/2000/svg\" height=\"24px\" viewBox=\"0 -960 960 960\">\n",
              "    <path d=\"M120-120v-720h720v720H120Zm60-500h600v-160H180v160Zm220 220h160v-160H400v160Zm0 220h160v-160H400v160ZM180-400h160v-160H180v160Zm440 0h160v-160H620v160ZM180-180h160v-160H180v160Zm440 0h160v-160H620v160Z\"/>\n",
              "  </svg>\n",
              "    </button>\n",
              "\n",
              "  <style>\n",
              "    .colab-df-container {\n",
              "      display:flex;\n",
              "      gap: 12px;\n",
              "    }\n",
              "\n",
              "    .colab-df-convert {\n",
              "      background-color: #E8F0FE;\n",
              "      border: none;\n",
              "      border-radius: 50%;\n",
              "      cursor: pointer;\n",
              "      display: none;\n",
              "      fill: #1967D2;\n",
              "      height: 32px;\n",
              "      padding: 0 0 0 0;\n",
              "      width: 32px;\n",
              "    }\n",
              "\n",
              "    .colab-df-convert:hover {\n",
              "      background-color: #E2EBFA;\n",
              "      box-shadow: 0px 1px 2px rgba(60, 64, 67, 0.3), 0px 1px 3px 1px rgba(60, 64, 67, 0.15);\n",
              "      fill: #174EA6;\n",
              "    }\n",
              "\n",
              "    .colab-df-buttons div {\n",
              "      margin-bottom: 4px;\n",
              "    }\n",
              "\n",
              "    [theme=dark] .colab-df-convert {\n",
              "      background-color: #3B4455;\n",
              "      fill: #D2E3FC;\n",
              "    }\n",
              "\n",
              "    [theme=dark] .colab-df-convert:hover {\n",
              "      background-color: #434B5C;\n",
              "      box-shadow: 0px 1px 3px 1px rgba(0, 0, 0, 0.15);\n",
              "      filter: drop-shadow(0px 1px 2px rgba(0, 0, 0, 0.3));\n",
              "      fill: #FFFFFF;\n",
              "    }\n",
              "  </style>\n",
              "\n",
              "    <script>\n",
              "      const buttonEl =\n",
              "        document.querySelector('#df-2ea0fc31-8593-408f-af72-7edff7f3e53d button.colab-df-convert');\n",
              "      buttonEl.style.display =\n",
              "        google.colab.kernel.accessAllowed ? 'block' : 'none';\n",
              "\n",
              "      async function convertToInteractive(key) {\n",
              "        const element = document.querySelector('#df-2ea0fc31-8593-408f-af72-7edff7f3e53d');\n",
              "        const dataTable =\n",
              "          await google.colab.kernel.invokeFunction('convertToInteractive',\n",
              "                                                    [key], {});\n",
              "        if (!dataTable) return;\n",
              "\n",
              "        const docLinkHtml = 'Like what you see? Visit the ' +\n",
              "          '<a target=\"_blank\" href=https://colab.research.google.com/notebooks/data_table.ipynb>data table notebook</a>'\n",
              "          + ' to learn more about interactive tables.';\n",
              "        element.innerHTML = '';\n",
              "        dataTable['output_type'] = 'display_data';\n",
              "        await google.colab.output.renderOutput(dataTable, element);\n",
              "        const docLink = document.createElement('div');\n",
              "        docLink.innerHTML = docLinkHtml;\n",
              "        element.appendChild(docLink);\n",
              "      }\n",
              "    </script>\n",
              "  </div>\n",
              "\n",
              "\n",
              "    <div id=\"df-adcf0ebf-2d54-42e4-a0e3-10e39f9741ce\">\n",
              "      <button class=\"colab-df-quickchart\" onclick=\"quickchart('df-adcf0ebf-2d54-42e4-a0e3-10e39f9741ce')\"\n",
              "                title=\"Suggest charts\"\n",
              "                style=\"display:none;\">\n",
              "\n",
              "<svg xmlns=\"http://www.w3.org/2000/svg\" height=\"24px\"viewBox=\"0 0 24 24\"\n",
              "     width=\"24px\">\n",
              "    <g>\n",
              "        <path d=\"M19 3H5c-1.1 0-2 .9-2 2v14c0 1.1.9 2 2 2h14c1.1 0 2-.9 2-2V5c0-1.1-.9-2-2-2zM9 17H7v-7h2v7zm4 0h-2V7h2v10zm4 0h-2v-4h2v4z\"/>\n",
              "    </g>\n",
              "</svg>\n",
              "      </button>\n",
              "\n",
              "<style>\n",
              "  .colab-df-quickchart {\n",
              "      --bg-color: #E8F0FE;\n",
              "      --fill-color: #1967D2;\n",
              "      --hover-bg-color: #E2EBFA;\n",
              "      --hover-fill-color: #174EA6;\n",
              "      --disabled-fill-color: #AAA;\n",
              "      --disabled-bg-color: #DDD;\n",
              "  }\n",
              "\n",
              "  [theme=dark] .colab-df-quickchart {\n",
              "      --bg-color: #3B4455;\n",
              "      --fill-color: #D2E3FC;\n",
              "      --hover-bg-color: #434B5C;\n",
              "      --hover-fill-color: #FFFFFF;\n",
              "      --disabled-bg-color: #3B4455;\n",
              "      --disabled-fill-color: #666;\n",
              "  }\n",
              "\n",
              "  .colab-df-quickchart {\n",
              "    background-color: var(--bg-color);\n",
              "    border: none;\n",
              "    border-radius: 50%;\n",
              "    cursor: pointer;\n",
              "    display: none;\n",
              "    fill: var(--fill-color);\n",
              "    height: 32px;\n",
              "    padding: 0;\n",
              "    width: 32px;\n",
              "  }\n",
              "\n",
              "  .colab-df-quickchart:hover {\n",
              "    background-color: var(--hover-bg-color);\n",
              "    box-shadow: 0 1px 2px rgba(60, 64, 67, 0.3), 0 1px 3px 1px rgba(60, 64, 67, 0.15);\n",
              "    fill: var(--button-hover-fill-color);\n",
              "  }\n",
              "\n",
              "  .colab-df-quickchart-complete:disabled,\n",
              "  .colab-df-quickchart-complete:disabled:hover {\n",
              "    background-color: var(--disabled-bg-color);\n",
              "    fill: var(--disabled-fill-color);\n",
              "    box-shadow: none;\n",
              "  }\n",
              "\n",
              "  .colab-df-spinner {\n",
              "    border: 2px solid var(--fill-color);\n",
              "    border-color: transparent;\n",
              "    border-bottom-color: var(--fill-color);\n",
              "    animation:\n",
              "      spin 1s steps(1) infinite;\n",
              "  }\n",
              "\n",
              "  @keyframes spin {\n",
              "    0% {\n",
              "      border-color: transparent;\n",
              "      border-bottom-color: var(--fill-color);\n",
              "      border-left-color: var(--fill-color);\n",
              "    }\n",
              "    20% {\n",
              "      border-color: transparent;\n",
              "      border-left-color: var(--fill-color);\n",
              "      border-top-color: var(--fill-color);\n",
              "    }\n",
              "    30% {\n",
              "      border-color: transparent;\n",
              "      border-left-color: var(--fill-color);\n",
              "      border-top-color: var(--fill-color);\n",
              "      border-right-color: var(--fill-color);\n",
              "    }\n",
              "    40% {\n",
              "      border-color: transparent;\n",
              "      border-right-color: var(--fill-color);\n",
              "      border-top-color: var(--fill-color);\n",
              "    }\n",
              "    60% {\n",
              "      border-color: transparent;\n",
              "      border-right-color: var(--fill-color);\n",
              "    }\n",
              "    80% {\n",
              "      border-color: transparent;\n",
              "      border-right-color: var(--fill-color);\n",
              "      border-bottom-color: var(--fill-color);\n",
              "    }\n",
              "    90% {\n",
              "      border-color: transparent;\n",
              "      border-bottom-color: var(--fill-color);\n",
              "    }\n",
              "  }\n",
              "</style>\n",
              "\n",
              "      <script>\n",
              "        async function quickchart(key) {\n",
              "          const quickchartButtonEl =\n",
              "            document.querySelector('#' + key + ' button');\n",
              "          quickchartButtonEl.disabled = true;  // To prevent multiple clicks.\n",
              "          quickchartButtonEl.classList.add('colab-df-spinner');\n",
              "          try {\n",
              "            const charts = await google.colab.kernel.invokeFunction(\n",
              "                'suggestCharts', [key], {});\n",
              "          } catch (error) {\n",
              "            console.error('Error during call to suggestCharts:', error);\n",
              "          }\n",
              "          quickchartButtonEl.classList.remove('colab-df-spinner');\n",
              "          quickchartButtonEl.classList.add('colab-df-quickchart-complete');\n",
              "        }\n",
              "        (() => {\n",
              "          let quickchartButtonEl =\n",
              "            document.querySelector('#df-adcf0ebf-2d54-42e4-a0e3-10e39f9741ce button');\n",
              "          quickchartButtonEl.style.display =\n",
              "            google.colab.kernel.accessAllowed ? 'block' : 'none';\n",
              "        })();\n",
              "      </script>\n",
              "    </div>\n",
              "\n",
              "    </div>\n",
              "  </div>\n"
            ],
            "application/vnd.google.colaboratory.intrinsic+json": {
              "type": "dataframe",
              "variable_name": "tienda",
              "summary": "{\n  \"name\": \"tienda\",\n  \"rows\": 2359,\n  \"fields\": [\n    {\n      \"column\": \"Producto\",\n      \"properties\": {\n        \"dtype\": \"category\",\n        \"num_unique_values\": 51,\n        \"samples\": [\n          \"Guitarra ac\\u00fastica\",\n          \"Bal\\u00f3n de baloncesto\",\n          \"Smartwatch\"\n        ],\n        \"semantic_type\": \"\",\n        \"description\": \"\"\n      }\n    },\n    {\n      \"column\": \"Categor\\u00eda del Producto\",\n      \"properties\": {\n        \"dtype\": \"category\",\n        \"num_unique_values\": 8,\n        \"samples\": [\n          \"Muebles\",\n          \"Deportes y diversi\\u00f3n\",\n          \"Electr\\u00f3nicos\"\n        ],\n        \"semantic_type\": \"\",\n        \"description\": \"\"\n      }\n    },\n    {\n      \"column\": \"Precio\",\n      \"properties\": {\n        \"dtype\": \"number\",\n        \"std\": 614686.7653873172,\n        \"min\": 7600.0,\n        \"max\": 2977000.0,\n        \"num_unique_values\": 1937,\n        \"samples\": [\n          2499400.0,\n          14800.0,\n          80500.0\n        ],\n        \"semantic_type\": \"\",\n        \"description\": \"\"\n      }\n    },\n    {\n      \"column\": \"Costo de env\\u00edo\",\n      \"properties\": {\n        \"dtype\": \"number\",\n        \"std\": 32860.0017825605,\n        \"min\": 0.0,\n        \"max\": 160800.0,\n        \"num_unique_values\": 753,\n        \"samples\": [\n          117800.0,\n          54700.0,\n          45600.0\n        ],\n        \"semantic_type\": \"\",\n        \"description\": \"\"\n      }\n    },\n    {\n      \"column\": \"Fecha de Compra\",\n      \"properties\": {\n        \"dtype\": \"object\",\n        \"num_unique_values\": 1018,\n        \"samples\": [\n          \"15/09/2022\",\n          \"03/06/2020\",\n          \"06/11/2021\"\n        ],\n        \"semantic_type\": \"\",\n        \"description\": \"\"\n      }\n    },\n    {\n      \"column\": \"Vendedor\",\n      \"properties\": {\n        \"dtype\": \"category\",\n        \"num_unique_values\": 14,\n        \"samples\": [\n          \"Juliana Costa\",\n          \"Mariana Herrera\",\n          \"Pedro Gomez\"\n        ],\n        \"semantic_type\": \"\",\n        \"description\": \"\"\n      }\n    },\n    {\n      \"column\": \"Lugar de Compra\",\n      \"properties\": {\n        \"dtype\": \"category\",\n        \"num_unique_values\": 19,\n        \"samples\": [\n          \"Bogot\\u00e1\",\n          \"Pereira\",\n          \"Neiva\"\n        ],\n        \"semantic_type\": \"\",\n        \"description\": \"\"\n      }\n    },\n    {\n      \"column\": \"Calificaci\\u00f3n\",\n      \"properties\": {\n        \"dtype\": \"number\",\n        \"std\": 1,\n        \"min\": 1,\n        \"max\": 5,\n        \"num_unique_values\": 5,\n        \"samples\": [\n          1,\n          2,\n          5\n        ],\n        \"semantic_type\": \"\",\n        \"description\": \"\"\n      }\n    },\n    {\n      \"column\": \"M\\u00e9todo de pago\",\n      \"properties\": {\n        \"dtype\": \"category\",\n        \"num_unique_values\": 4,\n        \"samples\": [\n          \"Nequi\",\n          \"Tarjeta de d\\u00e9bito\",\n          \"Tarjeta de cr\\u00e9dito\"\n        ],\n        \"semantic_type\": \"\",\n        \"description\": \"\"\n      }\n    },\n    {\n      \"column\": \"Cantidad de cuotas\",\n      \"properties\": {\n        \"dtype\": \"number\",\n        \"std\": 2,\n        \"min\": 1,\n        \"max\": 24,\n        \"num_unique_values\": 15,\n        \"samples\": [\n          7,\n          14,\n          8\n        ],\n        \"semantic_type\": \"\",\n        \"description\": \"\"\n      }\n    },\n    {\n      \"column\": \"lat\",\n      \"properties\": {\n        \"dtype\": \"number\",\n        \"std\": 2.2874452492678627,\n        \"min\": -4.21528,\n        \"max\": 11.54444,\n        \"num_unique_values\": 19,\n        \"samples\": [\n          4.60971,\n          4.81333,\n          2.9273\n        ],\n        \"semantic_type\": \"\",\n        \"description\": \"\"\n      }\n    },\n    {\n      \"column\": \"lon\",\n      \"properties\": {\n        \"dtype\": \"number\",\n        \"std\": 1.2178272727088486,\n        \"min\": -77.28111,\n        \"max\": -67.9239,\n        \"num_unique_values\": 19,\n        \"samples\": [\n          -74.08175,\n          -75.69611,\n          -75.28189\n        ],\n        \"semantic_type\": \"\",\n        \"description\": \"\"\n      }\n    }\n  ]\n}"
            }
          },
          "metadata": {},
          "execution_count": 42
        }
      ],
      "source": [
        "import pandas as pd\n",
        "\n",
        "url = \"https://raw.githubusercontent.com/alura-es-cursos/challenge1-data-science-latam/refs/heads/main/base-de-datos-challenge1-latam/tienda_1%20.csv\"\n",
        "url2 = \"https://raw.githubusercontent.com/alura-es-cursos/challenge1-data-science-latam/refs/heads/main/base-de-datos-challenge1-latam/tienda_2.csv\"\n",
        "url3 = \"https://raw.githubusercontent.com/alura-es-cursos/challenge1-data-science-latam/refs/heads/main/base-de-datos-challenge1-latam/tienda_3.csv\"\n",
        "url4 = \"https://raw.githubusercontent.com/alura-es-cursos/challenge1-data-science-latam/refs/heads/main/base-de-datos-challenge1-latam/tienda_4.csv\"\n",
        "\n",
        "tienda = pd.read_csv(url)\n",
        "tienda2 = pd.read_csv(url2)\n",
        "tienda3 = pd.read_csv(url3)\n",
        "tienda4 = pd.read_csv(url4)\n",
        "\n",
        "tienda.head()"
      ]
    },
    {
      "cell_type": "code",
      "source": [],
      "metadata": {
        "id": "u9CkKj3eiwOr"
      },
      "execution_count": null,
      "outputs": []
    },
    {
      "cell_type": "markdown",
      "source": [
        "#1. Análisis de facturación\n",
        "\n"
      ],
      "metadata": {
        "id": "X62IW3KFUIYm"
      }
    },
    {
      "cell_type": "code",
      "source": [
        "ingresos_totales = {\n",
        "    \"Tienda 1\": tienda[\"Precio\"].sum(),\n",
        "    \"Tienda 2\": tienda2[\"Precio\"].sum(),\n",
        "    \"Tienda 3\": tienda3[\"Precio\"].sum(),\n",
        "    \"Tienda 4\": tienda4[\"Precio\"].sum()\n",
        "}\n",
        "\n",
        "for tienda, ingreso in ingresos_totales.items():\n",
        "  print((f\"Ingreso total de {tienda}: {ingreso}\"))"
      ],
      "metadata": {
        "id": "KDyr8E71V3m-",
        "colab": {
          "base_uri": "https://localhost:8080/"
        },
        "outputId": "f69334e8-12ad-497f-a40c-6349410c2485"
      },
      "execution_count": null,
      "outputs": [
        {
          "output_type": "stream",
          "name": "stdout",
          "text": [
            "Ingreso total de Tienda 1: 1150880400.0\n",
            "Ingreso total de Tienda 2: 1116343500.0\n",
            "Ingreso total de Tienda 3: 1098019600.0\n",
            "Ingreso total de Tienda 4: 1038375700.0\n"
          ]
        }
      ]
    },
    {
      "cell_type": "code",
      "source": [],
      "metadata": {
        "id": "xykobSftV64I"
      },
      "execution_count": null,
      "outputs": []
    },
    {
      "cell_type": "markdown",
      "source": [
        "# 2. Ventas por categoría"
      ],
      "metadata": {
        "id": "2V_vcAPzWZmR"
      }
    },
    {
      "cell_type": "code",
      "source": [
        "ventas_por_categoria= {\n",
        "  \"tienda_1\" : tienda.groupby('Categoría del Producto')['Precio'].sum(),\n",
        "  \"tienda_2\" : tienda2.groupby('Categoría del Producto')['Precio'].sum(),\n",
        "  \"tienda_3\" : tienda3.groupby('Categoría del Producto')['Precio'].sum(),\n",
        "  \"tienda_4\" : tienda4.groupby('Categoría del Producto')['Precio'].sum()\n",
        "}"
      ],
      "metadata": {
        "id": "A34YupIuYhfF"
      },
      "execution_count": null,
      "outputs": []
    },
    {
      "cell_type": "code",
      "source": [
        "for tienda, ventas in ventas_por_categoria.items():\n",
        "  print(f\"Ventas por categoría en {tienda}:\")\n",
        "  ventas_df = ventas.to_frame().reset_index()\n",
        "  ventas_df.columns = ['Categoría del Producto', 'Precio']\n",
        "  ventas_df = ventas_df.sort_values(by=['Precio'], ascending=False)\n",
        "  print(ventas_df.to_string(index=False))\n",
        "  print(\"\\n\")"
      ],
      "metadata": {
        "id": "yZR6cOjXYSk1"
      },
      "execution_count": null,
      "outputs": []
    },
    {
      "cell_type": "markdown",
      "source": [
        "# 3. Calificación promedio de la tienda\n"
      ],
      "metadata": {
        "id": "Rq6tU_xSY3jk"
      }
    },
    {
      "cell_type": "code",
      "source": [
        "calificacion_promedio = {\n",
        "    \"Tienda 1\": tienda[\"Calificación\"].mean(),\n",
        "    \"Tienda 2\": tienda2[\"Calificación\"].mean(),\n",
        "    \"Tienda 3\": tienda3[\"Calificación\"].mean(),\n",
        "    \"Tienda 4\": tienda4[\"Calificación\"].mean()\n",
        "}\n"
      ],
      "metadata": {
        "id": "bh3jjjJwY5MU"
      },
      "execution_count": null,
      "outputs": []
    },
    {
      "cell_type": "code",
      "source": [
        "for tienda, calificacion in calificacion_promedio.items():\n",
        "    print(f\"Calificación promedio de {tienda}: {calificacion}\")"
      ],
      "metadata": {
        "id": "I0KkjPoTY88F",
        "colab": {
          "base_uri": "https://localhost:8080/"
        },
        "outputId": "ac99ae27-f4b0-4a64-8a7f-7be5e62253e7"
      },
      "execution_count": null,
      "outputs": [
        {
          "output_type": "stream",
          "name": "stdout",
          "text": [
            "Calificación promedio de Tienda 1: 3.976685036032217\n",
            "Calificación promedio de Tienda 2: 4.037303942348453\n",
            "Calificación promedio de Tienda 3: 4.048325561678677\n",
            "Calificación promedio de Tienda 4: 3.9957591178965224\n"
          ]
        }
      ]
    },
    {
      "cell_type": "markdown",
      "source": [
        "# 4. Productos más y menos vendidos"
      ],
      "metadata": {
        "id": "DmNp1KPBZCm-"
      }
    },
    {
      "cell_type": "code",
      "source": [
        "producto_mas_vendido = {\n",
        "    \"Tienda 1\": tienda.groupby('Producto').size().idxmax(),\n",
        "    \"Tienda 2\": tienda2.groupby('Producto').size().idxmax(),\n",
        "    \"Tienda 3\": tienda3.groupby('Producto').size().idxmax(),\n",
        "    \"Tienda 4\": tienda4.groupby('Producto').size().idxmax()\n",
        "    }\n",
        "\n",
        "producto_menos_vendido = {\n",
        "    \"Tienda 1\": tienda.groupby('Producto').size().idxmin(),\n",
        "    \"Tienda 2\": tienda2.groupby('Producto').size().idxmin(),\n",
        "    \"Tienda 3\": tienda3.groupby('Producto').size().idxmin(),\n",
        "    \"Tienda 4\": tienda4.groupby('Producto').size().idxmin()\n",
        "    }\n",
        "\n"
      ],
      "metadata": {
        "id": "qoyjqijQZHfF"
      },
      "execution_count": null,
      "outputs": []
    },
    {
      "cell_type": "code",
      "source": [
        "for tienda, producto in producto_mas_vendido.items():\n",
        "    print(f\"Producto más vendido en {tienda}: {producto}\")\n",
        "    print()\n",
        "\n",
        "for tienda, producto in producto_menos_vendido.items():\n",
        "    print(f\"Producto menos vendido en {tienda}: {producto}\")\n",
        "    print()"
      ],
      "metadata": {
        "id": "0Sw3sd4IZIGW"
      },
      "execution_count": null,
      "outputs": []
    },
    {
      "cell_type": "markdown",
      "source": [
        "# 5. Envío promedio por tienda"
      ],
      "metadata": {
        "id": "Fl0cGi3bZKqU"
      }
    },
    {
      "cell_type": "code",
      "source": [
        "envio_promedio = {\n",
        "    \"Tienda 1\": tienda[\"Costo de envío\"].mean(),\n",
        "    \"Tienda 2\": tienda2[\"Costo de envío\"].mean(),\n",
        "    \"Tienda 3\": tienda3[\"Costo de envío\"].mean(),\n",
        "    \"Tienda 4\": tienda4[\"Costo de envío\"].mean()\n",
        "}\n",
        "\n",
        "for tienda, envio in envio_promedio.items():\n",
        "    print(f\"Costo de envío promedio de {tienda}: {envio:.2f}\")"
      ],
      "metadata": {
        "id": "S2JeaCykZNy9",
        "colab": {
          "base_uri": "https://localhost:8080/"
        },
        "outputId": "3465f2ca-3f32-4d36-d9dc-1a7fbce20506"
      },
      "execution_count": null,
      "outputs": [
        {
          "output_type": "stream",
          "name": "stdout",
          "text": [
            "Costo de envío promedio de Tienda 1: 26018.61\n",
            "Costo de envío promedio de Tienda 2: 25216.24\n",
            "Costo de envío promedio de Tienda 3: 24805.68\n",
            "Costo de envío promedio de Tienda 4: 23459.46\n"
          ]
        }
      ]
    },
    {
      "cell_type": "markdown",
      "source": [
        "#**GRAFICOS**"
      ],
      "metadata": {
        "id": "9RY2IZEFplrC"
      }
    },
    {
      "cell_type": "markdown",
      "source": [
        "## **GRAFICO DE INGRESOS TOTALES POR TIENDA.**"
      ],
      "metadata": {
        "id": "7TJ74cHYK1uh"
      }
    },
    {
      "cell_type": "code",
      "source": [
        "import matplotlib.pyplot as plt\n",
        "from matplotlib.ticker import FuncFormatter\n",
        "\n",
        "ingresos_df = pd.DataFrame(list(ingresos_totales.items()), columns=[\"Tienda\", \"Ingresos\"])\n",
        "ingresos_df = ingresos_df.sort_values(\"Ingresos\", ascending=True).reset_index(drop=True)\n",
        "\n",
        "max_val = ingresos_df[\"Ingresos\"].max()\n",
        "min_val = ingresos_df[\"Ingresos\"].min()\n",
        "\n",
        "def pick_color(v):\n",
        "    if v == max_val:   # líder\n",
        "        return \"#1f77b4\"   # azul\n",
        "    elif v == min_val: # peor\n",
        "        return \"#e74c3c\"   # rojo\n",
        "    else:\n",
        "        return \"#6c8ebf\"   # gris azulado\n",
        "\n",
        "colors = [pick_color(v) for v in ingresos_df[\"Ingresos\"]]\n",
        "\n",
        "fig, ax = plt.subplots(figsize=(9, 5))\n",
        "ax.barh(ingresos_df[\"Tienda\"], ingresos_df[\"Ingresos\"], color=colors, alpha=0.95)\n",
        "\n",
        "# Título\n",
        "ax.set_title(\"Ingresos totales por tienda (MXN)\", fontsize=14, weight=\"bold\", pad=8)\n",
        "\n",
        "# Eje X en miles de millones\n",
        "ax.xaxis.set_major_formatter(FuncFormatter(lambda x, pos: f\"${x/1e9:.2f} B\"))\n",
        "ax.grid(axis=\"x\", linestyle=\"--\", alpha=0.25)\n",
        "ax.set_xlabel(\"\")\n",
        "ax.set_ylabel(\"\")\n",
        "\n",
        "# Quitamos los bordes superiores y derechos\n",
        "ax.spines[\"top\"].set_visible(False)\n",
        "ax.spines[\"right\"].set_visible(False)\n",
        "\n",
        "\n",
        "for i, (tienda, val) in enumerate(zip(ingresos_df[\"Tienda\"], ingresos_df[\"Ingresos\"])):\n",
        "    delta_pct = (val / max_val - 1) * 100\n",
        "    etiqueta_valor = f\"${val:,.0f}\"\n",
        "    etiqueta_delta = \" (Mayor ingreso)\" if val == max_val else f\" ({delta_pct:+.1f}%)\"\n",
        "    ax.text(val, i, f\"  {etiqueta_valor}{etiqueta_delta}\",\n",
        "            va=\"center\", ha=\"left\", fontsize=10)\n",
        "\n",
        "plt.tight_layout()\n",
        "plt.show()"
      ],
      "metadata": {
        "colab": {
          "base_uri": "https://localhost:8080/",
          "height": 507
        },
        "id": "2lt56tATpxSi",
        "outputId": "b8d9117d-e3e6-4bf9-938d-6d95ab37117b"
      },
      "execution_count": null,
      "outputs": [
        {
          "output_type": "display_data",
          "data": {
            "text/plain": [
              "<Figure size 900x500 with 1 Axes>"
            ],
            "image/png": "[encoded data removed]"
          },
          "metadata": {}
        }
      ]
    },
    {
      "cell_type": "markdown",
      "source": [
        "##**GRAFICO DE CALIFICACIÓN PROMEDIO POR TIENDA.**"
      ],
      "metadata": {
        "id": "aCJA3Uj8K3Wp"
      }
    },
    {
      "cell_type": "code",
      "source": [
        "from matplotlib.ticker import MultipleLocator\n",
        "\n",
        "calificacion_promedio = {\n",
        "    \"Tienda 1\": tienda[\"Calificación\"].mean(),\n",
        "    \"Tienda 2\": tienda2[\"Calificación\"].mean(),\n",
        "    \"Tienda 3\": tienda3[\"Calificación\"].mean(),\n",
        "    \"Tienda 4\": tienda4[\"Calificación\"].mean()\n",
        "}\n",
        "\n",
        "# 2) DataFrame ordenado\n",
        "calif_df = pd.DataFrame(list(calificacion_promedio.items()), columns=[\"Tienda\", \"Calificación\"])\n",
        "calif_df = calif_df.sort_values(\"Calificación\", ascending=True).reset_index(drop=True)\n",
        "\n",
        "best = calif_df[\"Calificación\"].max()\n",
        "worst = calif_df[\"Calificación\"].min()\n",
        "avg = calif_df[\"Calificación\"].mean()\n",
        "\n",
        "def color_for(v):\n",
        "    if v == best:  return \"#2ecc71\"  # verde (mejor)\n",
        "    if v == worst: return \"#e74c3c\"  # rojo (peor)\n",
        "    return \"#95a5a6\"                 # gris para intermedias\n",
        "\n",
        "colors = [color_for(v) for v in calif_df[\"Calificación\"]]\n",
        "\n",
        "# 3) Rango X: zoom suave en torno a min–max, respetando 0..5\n",
        "pad = 0.08\n",
        "x_min = max(0, round(worst - pad, 2))\n",
        "x_max = min(5, round(best + pad, 2))\n",
        "if x_max - x_min < 0.3:  # si la banda queda muy fina, ampliamos un poco\n",
        "    extra = 0.15\n",
        "    x_min = max(0, x_min - extra)\n",
        "    x_max = min(5, x_max + extra)\n",
        "\n",
        "# 4) Gráfico\n",
        "fig, ax = plt.subplots(figsize=(9, 5))\n",
        "ax.barh(calif_df[\"Tienda\"], calif_df[\"Calificación\"], color=colors, alpha=0.95)\n",
        "\n",
        "# Título\n",
        "ax.set_title(\"Calificación promedio por tienda\", fontsize=14, weight=\"bold\", pad=8)\n",
        "\n",
        "# Eje X: límites y grilla ligera\n",
        "ax.set_xlim(x_min, x_max)\n",
        "ax.xaxis.set_major_locator(MultipleLocator(0.1))\n",
        "ax.grid(axis=\"x\", linestyle=\"--\", alpha=0.25)\n",
        "\n",
        "# Quitar bordes superiores y derechos\n",
        "ax.spines[\"top\"].set_visible(False)\n",
        "ax.spines[\"right\"].set_visible(False)\n",
        "\n",
        "# Línea de promedio general\n",
        "ax.axvline(avg, color=\"#7f8c8d\", linestyle=\"--\", linewidth=1.5, alpha=0.8)\n",
        "ax.text(avg, -0.45, f\"Promedio: {avg:.2f}\", ha=\"center\", va=\"center\", fontsize=10, color=\"#7f8c8d\")\n",
        "\n",
        "# Anotaciones: valor + delta vs. la mejor\n",
        "for y, (tienda_n, val) in enumerate(zip(calif_df[\"Tienda\"], calif_df[\"Calificación\"])):\n",
        "    delta_pct = (val / best - 1) * 100\n",
        "    etiqueta = f\"{val:.2f} ({delta_pct:+.1f}%)\" if val != best else f\"{val:.2f} (Tienda con mejor calificación)\"\n",
        "    ax.text(val, y, \"  \" + etiqueta, va=\"center\", ha=\"left\", fontsize=10)\n",
        "\n",
        "ax.set_xlabel(\"\")\n",
        "ax.set_ylabel(\"\")\n",
        "\n",
        "plt.tight_layout()\n",
        "plt.show()"
      ],
      "metadata": {
        "colab": {
          "base_uri": "https://localhost:8080/",
          "height": 507
        },
        "id": "098PZJYIpxba",
        "outputId": "d045b745-3251-4d4a-e35b-95b2f47b17a3"
      },
      "execution_count": null,
      "outputs": [
        {
          "output_type": "display_data",
          "data": {
            "text/plain": [
              "<Figure size 900x500 with 1 Axes>"
            ],
            "image/png": "[encoded data removed]"
          },
          "metadata": {}
        }
      ]
    },
    {
      "cell_type": "markdown",
      "source": [
        "## **GRAFICO COSTO DE ENVÍO PROMEDIO POR TIENDA**"
      ],
      "metadata": {
        "id": "lHDGqhv-Lxwz"
      }
    },
    {
      "cell_type": "code",
      "source": [
        "# 1) Partimos del diccionario que ya calculaste\n",
        "envio_promedio = {\n",
        "    \"Tienda 1\": tienda[\"Costo de envío\"].mean(),\n",
        "    \"Tienda 2\": tienda2[\"Costo de envío\"].mean(),\n",
        "    \"Tienda 3\": tienda3[\"Costo de envío\"].mean(),\n",
        "    \"Tienda 4\": tienda4[\"Costo de envío\"].mean()\n",
        "}\n",
        "\n",
        "# 2) Convertir a DataFrame y ordenar\n",
        "envio_df = pd.DataFrame(list(envio_promedio.items()), columns=[\"Tienda\", \"Costo de envío\"])\n",
        "envio_df = envio_df.sort_values(\"Costo de envío\", ascending=True).reset_index(drop=True)\n",
        "\n",
        "best = envio_df[\"Costo de envío\"].min()   # más eficiente\n",
        "worst = envio_df[\"Costo de envío\"].max()  # menos eficiente\n",
        "avg = envio_df[\"Costo de envío\"].mean()\n",
        "\n",
        "def color_for(v):\n",
        "    if v == best:  return \"#2ecc71\"  # verde (mejor)\n",
        "    if v == worst: return \"#e74c3c\"  # rojo (peor)\n",
        "    return \"#95a5a6\"                 # gris para intermedias\n",
        "\n",
        "colors = [color_for(v) for v in envio_df[\"Costo de envío\"]]\n",
        "\n",
        "# 3) Gráfico\n",
        "fig, ax = plt.subplots(figsize=(9,5))\n",
        "ax.barh(envio_df[\"Tienda\"], envio_df[\"Costo de envío\"], color=colors, alpha=0.95)\n",
        "\n",
        "# Título\n",
        "ax.set_title(\"Costo de envío promedio por tienda\", fontsize=14, weight=\"bold\", pad=8)\n",
        "\n",
        "# Línea de promedio\n",
        "ax.axvline(avg, color=\"#7f8c8d\", linestyle=\"--\", linewidth=1.5, alpha=0.8)\n",
        "ax.text(avg, -0.45, f\"Promedio: {avg:.2f}\", ha=\"center\", va=\"center\", fontsize=10, color=\"#7f8c8d\")\n",
        "\n",
        "# Quitar bordes superiores y derechos\n",
        "ax.spines[\"top\"].set_visible(False)\n",
        "ax.spines[\"right\"].set_visible(False)\n",
        "\n",
        "# Etiquetas con valores + delta vs. más eficiente\n",
        "for y, (tienda_n, val) in enumerate(zip(envio_df[\"Tienda\"], envio_df[\"Costo de envío\"])):\n",
        "    delta_pct = (val / best - 1) * 100\n",
        "    etiqueta = f\"{val:,.2f} ({delta_pct:+.1f}%)\" if val != best else f\"{val:,.2f} (Menor Costo de envío)\"\n",
        "    ax.text(val, y, \"  \" + etiqueta, va=\"center\", ha=\"left\", fontsize=10)\n",
        "\n",
        "ax.set_xlabel(\"\")\n",
        "ax.set_ylabel(\"\")\n",
        "\n",
        "plt.tight_layout()\n",
        "plt.show()"
      ],
      "metadata": {
        "colab": {
          "base_uri": "https://localhost:8080/",
          "height": 507
        },
        "id": "tKYFhJSupxfO",
        "outputId": "f5c0d2d1-0e3f-4e8b-ed21-7caf8492076e"
      },
      "execution_count": 43,
      "outputs": [
        {
          "output_type": "display_data",
          "data": {
            "text/plain": [
              "<Figure size 900x500 with 1 Axes>"
            ],
            "image/png": "[encoded data removed]"
          },
          "metadata": {}
        }
      ]
    },
    {
      "cell_type": "markdown",
      "source": [
        "# **CONCLUSIÓN FINAL ACERCA DE QUE TIENDA DEBE VENDER EL SR. JUAN**"
      ],
      "metadata": {
        "id": "SNPOKMAnohKI"
      }
    },
    {
      "cell_type": "markdown",
      "source": [
        "Conclusion basándonos en el análisis de los datos de las cuatro tiendas, podemos ofrecer las siguientes observaciones para ayudar al Sr. Juan a decidir cual tienda debe vender:\n",
        "\n",
        "**1. Ingresos Totales:**\n",
        "\n",
        "*   La Tienda 1 tiene los ingresos totales más altos ($1,150,880,400).\n",
        "\n",
        "*   La Tienda 4 tiene los ingresos totales más bajos ($ 1,038,375,700).\n",
        "\n",
        "**2. Ventas por Categoría:**\n",
        "*   En general, las categorías **\"Electrónicos\"** y **\"Electrodomésticos\"** son las que generan mayores ingresos en todas las tiendas.\n",
        "\n",
        "*   Las categorías **\"Libros\"** y **\"Artículos para el hogar\"** tienden a tener las ventas más bajas.\n",
        "\n",
        "**3. Calificación Promedio de los Clientes:**\n",
        "*   La Tienda 3 tiene la calificación promedio más alta (4.05).\n",
        "\n",
        "*   La Tienda 1 tiene la calificación promedio más baja (3.98).\n",
        "\n",
        "**4. Productos Más y Menos Vendidos:**\n",
        "*   Los productos más vendidos varían en cada tienda, destacando **\"Armario\"** en Tienda 1, **\"Iniciando en programación\"** en Tienda 2, **\"Kit de bancas\"** en Tienda 3 y **\"Cama box\"** en Tienda 4.\n",
        "\n",
        "*   Los productos menos vendidos también son diversos en cada tienda.\n",
        "\n",
        "**5. Costo de Envío Promedio:**\n",
        "*   La Tienda 1 tiene el costo de envío promedio más alto ($26,018.61).\n",
        "\n",
        "*   La Tienda 4 tiene el costo de envío promedio más bajo ($23,459.46).\n",
        "\n",
        "**Recomendación para el Sr. Juan:**\n",
        "\n",
        "Considerando los ingresos totales, la Tienda 1 es la que genera mayores ventas. Sin embargo, también tiene el costo de envío promedio más alto y la calificación promedio más baja con 3,98 (por debajo del promedio).\n",
        "\n",
        "La Tienda 3, a pesar de tener ingresos totales ligeramente inferiores a la Tienda 1 y 2, destaca por tener la calificación promedio más alta, lo que sugiere una mayor satisfacción del cliente. Su costo de envío promedio es intermedio.\n",
        "\n",
        "La Tienda 4 tiene los ingresos totales más bajos, el costo de envío promedio más bajo y su calificacion promedio tambien es baja con 4.00 (por debajo del promedio)\n",
        "\n",
        "**La recomendación sería vender la Tienda 4, dado que combina el menor nivel de ingresos con una satisfacción del cliente que no compensa esa debilidad, aun considerando su bajo costo de envío. Las demás tiendas muestran un mayor potencial de crecimiento o rentabilidad**\n",
        "\n",
        "La decisión final dependerá de las prioridades del Sr. Juan (maximizar ingresos, satisfacción del cliente, minimizar costos de envío, etc.) y de si está dispuesto a invertir en mejorar los puntos débiles de la tienda elegida."
      ],
      "metadata": {
        "id": "IafV_dEapJJz"
      }
    }
  ]
}